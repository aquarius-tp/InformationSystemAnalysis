{
 "cells": [
  {
   "cell_type": "markdown",
   "metadata": {
    "colab_type": "text",
    "id": "view-in-github"
   },
   "source": [
    "<a href=\"https://colab.research.google.com/github/kobemawu/www/blob/master/Clustering.ipynb\" target=\"_parent\"><img src=\"https://colab.research.google.com/assets/colab-badge.svg\" alt=\"Open In Colab\"/></a>"
   ]
  },
  {
   "cell_type": "markdown",
   "metadata": {
    "id": "sESw_dKQL5mA"
   },
   "source": [
    "# 課題１: 以下の要件を満たすプログラムを作成\n",
    "- 100個以上の文書をクラスタリング\n",
    "- K-means手法を利用"
   ]
  },
  {
   "cell_type": "markdown",
   "metadata": {
    "id": "oFmxTSs2MV2y"
   },
   "source": [
    "## 必要なライブラリ・データセットのインポート"
   ]
  },
  {
   "cell_type": "code",
   "execution_count": 1,
   "metadata": {
    "id": "v9v_nPKQMTZd"
   },
   "outputs": [
    {
     "name": "stderr",
     "output_type": "stream",
     "text": [
      "[nltk_data] Downloading package stopwords to /home/junya/nltk_data...\n",
      "[nltk_data]   Package stopwords is already up-to-date!\n",
      "[nltk_data] Downloading package wordnet to /home/junya/nltk_data...\n",
      "[nltk_data]   Package wordnet is already up-to-date!\n"
     ]
    },
    {
     "data": {
      "text/plain": [
       "True"
      ]
     },
     "execution_count": 1,
     "metadata": {},
     "output_type": "execute_result"
    }
   ],
   "source": [
    "from sklearn.feature_extraction.text import TfidfVectorizer\n",
    "from sklearn.cluster import KMeans\n",
    "import numpy as np\n",
    "import matplotlib.pyplot as plt\n",
    "import pandas as pd\n",
    "import nltk\n",
    "import collections\n",
    "\n",
    "nltk.download(\"stopwords\")\n",
    "nltk.download(\"wordnet\")"
   ]
  },
  {
   "cell_type": "markdown",
   "metadata": {},
   "source": [
    "### 百人一首のデータを読み込み"
   ]
  },
  {
   "cell_type": "code",
   "execution_count": 2,
   "metadata": {},
   "outputs": [
    {
     "name": "stdout",
     "output_type": "stream",
     "text": [
      "num of docs: 100\n"
     ]
    }
   ],
   "source": [
    "import glob\n",
    "import os\n",
    "import re\n",
    "\n",
    "# Ogura Hyakunin Isshu\n",
    "DATA_PATH = './100poets/100poets.txt'\n",
    "\n",
    "def cleaning_text(text):\n",
    "    # remove \".,!?:;\" \n",
    "    pattern1 = '[,.!\\?;:]'\n",
    "    text = re.sub(pattern1, '', text)    \n",
    "    # remove \"--\"\n",
    "    pattern2 = '--'\n",
    "    text = re.sub(pattern2, '', text)    \n",
    "    # remove \"\\n\"\n",
    "    pattern3 = '\\\\n'\n",
    "    text = re.sub(pattern3, '', text)    \n",
    "    return text\n",
    "\n",
    "# read file and set docs\n",
    "f = open(DATA_PATH)\n",
    "docs=[cleaning_text(line).split() for line in f]\n",
    "f.seek(0, os.SEEK_SET)\n",
    "org=[cleaning_text(line) for line in f]\n",
    "f.close()\n",
    "\n",
    "#print(docs[:1])\n",
    "#print(org[:1])\n",
    "print(\"num of docs:\", len(docs))"
   ]
  },
  {
   "cell_type": "markdown",
   "metadata": {
    "id": "U17VbjPaNIAD"
   },
   "source": [
    "## 前処理"
   ]
  },
  {
   "cell_type": "code",
   "execution_count": 3,
   "metadata": {
    "id": "CHC1l7zDNFLx"
   },
   "outputs": [],
   "source": [
    "# create stop word list\n",
    "en_stop = nltk.corpus.stopwords.words('english')\n",
    "\n",
    "# add additional stop word\n",
    "en_stop= [\"``\",\"/\",\",.\",\".,\",\";\",\"--\",\":\",\")\",\"(\",'\"','&',\"'\",'),',',\"','-','.,','.,\"','.-',\"?\",\">\",\"<\"] \\\n",
    "         + [\"0\",\"1\",\"2\",\"3\",\"4\",\"5\",\"6\",\"7\",\"8\",\"9\"] \\\n",
    "         + en_stop\n",
    "\n",
    "# create preprocessing function\n",
    "from nltk.corpus import wordnet as wn #lemmatize関数のためのimport\n",
    "\n",
    "def preprocess_word(word, stopwordset):\n",
    "    \n",
    "    #1.make words lower ex: Python =>python\n",
    "    word=word.lower()\n",
    "    \n",
    "    #2.remove \",\" and \".\"\n",
    "    if word in [\",\",\".\"]:\n",
    "        return None\n",
    "    \n",
    "    #3.remove stopword  ex: the => (None) \n",
    "    if word in stopwordset:\n",
    "        return None\n",
    "    \n",
    "    #4.lemmatize  ex: cooked=>cook\n",
    "    lemma = wn.morphy(word)\n",
    "    if lemma is None:\n",
    "        return word\n",
    "\n",
    "    elif lemma in stopwordset: #lemmatizeしたものがstopwordである可能性がある\n",
    "        return None\n",
    "    else:\n",
    "        return lemma    \n",
    "\n",
    "def preprocess_document(document):\n",
    "    document=[preprocess_word(w, en_stop) for w in document]\n",
    "    document=[w for w in document if w is not None]\n",
    "    return document\n",
    "\n",
    "def preprocess_documents(documents):\n",
    "    return [preprocess_document(document) for document in documents]\n",
    "\n",
    "# preprocessing\n",
    "pre_docs = preprocess_documents(docs)\n",
    "\n",
    "#print(pre_docs[0]) # for debug"
   ]
  },
  {
   "cell_type": "markdown",
   "metadata": {
    "id": "kIwd7wGvNyWj"
   },
   "source": [
    "## クラスタリング"
   ]
  },
  {
   "cell_type": "markdown",
   "metadata": {},
   "source": [
    "### (a) BoW(Bag of Words)によるベクトル化"
   ]
  },
  {
   "cell_type": "code",
   "execution_count": 4,
   "metadata": {},
   "outputs": [
    {
     "name": "stdout",
     "output_type": "stream",
     "text": [
      "max number of elemenet:  3\n",
      "number of words:  669\n"
     ]
    }
   ],
   "source": [
    "# define bow vectorizer\n",
    "def bow_vectorizer(docs):\n",
    "  word2id = {}\n",
    "  for doc in docs:\n",
    "    for w in doc:\n",
    "      if w not in word2id:\n",
    "        word2id[w] = len(word2id)\n",
    "        \n",
    "  result_list = []\n",
    "  for doc in docs:\n",
    "    doc_vec = [0] * len(word2id)\n",
    "    for w in doc:\n",
    "      doc_vec[word2id[w]] += 1\n",
    "    result_list.append(doc_vec)\n",
    "  return result_list, word2id\n",
    "\n",
    "# vectorize by BoW\n",
    "bow_vec, word2id = bow_vectorizer(pre_docs)\n",
    "\n",
    "# for debug\n",
    "#print(bow_vec)\n",
    "#word2id.items()\n",
    "\n",
    "result = [max(vector) for vector in bow_vec]\n",
    "print(\"max number of elemenet: \", max(result))\n",
    "print(\"number of words: \", len(word2id))"
   ]
  },
  {
   "cell_type": "markdown",
   "metadata": {
    "id": "WPAMVMFaN2yL"
   },
   "source": [
    "### (b) TF-IDF(Term Frequency - Inverse Document Frequency)によるベクトル化\n",
    "#### vectorizerの作成（ハイパーパラメーターの設定）"
   ]
  },
  {
   "cell_type": "code",
   "execution_count": 5,
   "metadata": {
    "colab": {
     "base_uri": "https://localhost:8080/"
    },
    "id": "QVtbDMmtNuQV",
    "outputId": "bb794913-e004-4858-b327-d3a432e50bfc"
   },
   "outputs": [],
   "source": [
    "# create vectorizer, (https://gotutiyan.hatenablog.com/entry/2020/09/10/181919)\n",
    "vectorizer = TfidfVectorizer(max_features=int(len(word2id)*0.80), token_pattern=u'(?u)\\\\b\\\\w+\\\\b' )"
   ]
  },
  {
   "cell_type": "markdown",
   "metadata": {
    "id": "bOOrgZHZN_Aw"
   },
   "source": [
    "#### 語彙の獲得、idfの計算、tf-idf行列の計算"
   ]
  },
  {
   "cell_type": "code",
   "execution_count": 6,
   "metadata": {
    "id": "98b3XjG7N8nZ"
   },
   "outputs": [],
   "source": [
    "pre_docs = [\" \".join(doc) for doc in pre_docs]\n",
    "\n",
    "# fit & transform\n",
    "tf_idf = vectorizer.fit_transform(pre_docs)\n",
    "\n",
    "# for debug\n",
    "#print(tf_idf[0])\n",
    "#print(tf_idf[0].toarray())"
   ]
  },
  {
   "cell_type": "markdown",
   "metadata": {
    "id": "yKhgoWLeOCW_"
   },
   "source": [
    "## K-means"
   ]
  },
  {
   "cell_type": "markdown",
   "metadata": {},
   "source": [
    "### クラスタリングの性能評価:シルエット分析"
   ]
  },
  {
   "cell_type": "code",
   "execution_count": 7,
   "metadata": {},
   "outputs": [],
   "source": [
    "import numpy as np\n",
    "\n",
    "from sklearn import preprocessing\n",
    "tf_idf = preprocessing.normalize(tf_idf)\n",
    "\n",
    "# define kmeans method\n",
    "def kmeans(n_clust):\n",
    "  km=KMeans(n_clusters=n_clust,\n",
    "            init=\"k-means++\",\n",
    "            n_init=10,\n",
    "            max_iter=300,\n",
    "            random_state=0)\n",
    "  y_km=km.fit_predict(tf_idf)\n",
    "  return y_km\n",
    "\n",
    "def n_label(y_km):\n",
    "  cluster_labels=np.unique(y_km)\n",
    "  n_clusters=cluster_labels.shape[0]\n",
    "  return [cluster_labels,n_clusters]"
   ]
  },
  {
   "cell_type": "markdown",
   "metadata": {},
   "source": [
    "#### 最適なクラスタ数を探索"
   ]
  },
  {
   "cell_type": "code",
   "execution_count": 8,
   "metadata": {},
   "outputs": [
    {
     "name": "stdout",
     "output_type": "stream",
     "text": [
      "not best of k:2 var: 3.6e+02 [69, 31]\n",
      "not best of k:3 var: 1.6e+02 [51, 25, 24]\n",
      "not best of k:4 var: 9 [30, 22, 24, 24]\n",
      "not best of k:5 var: 50 [17, 28, 13, 29, 13]\n",
      "not best of k:6 var: 26 [16, 26, 18, 10, 12, 18]\n",
      "not best of k:7 var: 19 [19, 13, 16, 15, 10, 7, 20]\n",
      "not best of k:8 var: 12 [13, 19, 15, 12, 13, 6, 10, 12]\n",
      "not best of k:9 var: 9.2 [15, 8, 13, 8, 9, 11, 17, 10, 9]\n",
      "    best of k:10 var: 4.4 [7, 7, 10, 12, 11, 9, 13, 9, 9, 13]\n",
      "not best of k:11 var: 6.1 [8, 11, 7, 11, 13, 13, 9, 6, 9, 6, 7]\n",
      "    best of k:12 var: 4.2 [6, 9, 11, 10, 6, 10, 11, 10, 5, 8, 6, 8]\n",
      "not best of k:13 var: 9.6 [3, 7, 3, 8, 9, 14, 7, 13, 7, 9, 8, 5, 7]\n",
      "not best of k:14 var: 11 [9, 9, 8, 7, 7, 8, 12, 4, 3, 3, 5, 15, 7, 3]\n"
     ]
    }
   ],
   "source": [
    "from sklearn.metrics import silhouette_samples\n",
    "import statistics\n",
    "\n",
    "best_number_of_clusters = 0\n",
    "\n",
    "# search\n",
    "for k in range(2,15):\n",
    "    y_km = kmeans(k)\n",
    "    nn_l = n_label(y_km)\n",
    "    cluster_labels = nn_l[0]\n",
    "    n_clusters = nn_l[1]\n",
    "\n",
    "    # calc. silhouette\n",
    "    silhouette_vals=silhouette_samples(tf_idf,y_km,metric='cosine')\n",
    "\n",
    "    sil = [] # number of samples in each cluster\n",
    "    for i,c in enumerate(cluster_labels):\n",
    "        c_silhouette_vals=silhouette_vals[y_km==c]\n",
    "        sil.append(len(c_silhouette_vals))\n",
    "\n",
    "    # find best clusters\n",
    "    if max(sil)-min(sil) < 7:\n",
    "        print(\"    best of k:%d\"%int(i+1), \"var:\", '{:.2g}'.format(statistics.pvariance(sil)), sil)\n",
    "        best_number_of_clusters = i+1\n",
    "    else:\n",
    "        print(\"not best of k:%d\"%int(i+1),\"var:\", '{:.2g}'.format(statistics.pvariance(sil)), sil)"
   ]
  },
  {
   "cell_type": "markdown",
   "metadata": {},
   "source": [
    "#### クラスタ毎に表示"
   ]
  },
  {
   "cell_type": "code",
   "execution_count": 9,
   "metadata": {
    "id": "qVRkE4lsOBuL"
   },
   "outputs": [
    {
     "name": "stdout",
     "output_type": "stream",
     "text": [
      "---------- Cluster 0  ----------\n",
      "17 : Even when the gods Held sway in the ancient days I have never heard That water gleamed with autumn red As it does in Tatta's stream\n",
      "31 : At the break of day Just as though the morning moon Lightened the dim scene Yoshino's village lay In a haze of falling snow\n",
      "37 : In the autumn fields When the heedless wind blows by Over the pure-white dew How the myriad unstrung gems Are scattered everywhere around\n",
      "58 : As Mount Arima Sends its rustling winds across Ina's bamboo plains I will be just as steadfast And never will forget you\n",
      "94 : From Mount Yoshino Blows a chill autumnal wind In the deepening night The ancient village shivers Sounds of beating cloth I hear\n",
      "100 : In this ancient house Paved with a hundred stones Ferns grow in the eaves But numerous as they are My old memories are more\n",
      "---------- Cluster 1  ----------\n",
      "7 : When I look up at The wide-stretched plain of heaven Is the moon the same That rose on Mount Mikasa In the land of Kasuga\n",
      "12 : Let the winds of heaven Blow through the paths among the clouds And close their gates Then for a while I could detain These messengers in maiden form\n",
      "25 : If your name is true Trailing vine of \"Meeting Hill\" Isn't there some way Hidden from people's gaze That you can draw her to my side\n",
      "35 : The depths of the hearts Of humankind cannot be known But in my birthplace The plum blossoms smell the same As in the years gone by\n",
      "36 : In the summer night The evening still seems present But the dawn is here To what region of the clouds Has the wandering moon come home\n",
      "57 : Meeting on the path But I cannot clearly know If it was he Because the midnight moon In a cloud had disappeared\n",
      "59 : Better to have slept Care-free than to keep vain watch Through the passing night Till I saw the lonely moon Traverse her descending path\n",
      "79 : See how clear and bright Is the moonlight finding ways Through the riven clouds That with drifting autumn wind Gracefully float in the sky\n",
      "92 : Like a rock at sea At ebb-tide hidden from view Is my tear-drenched sleeve Never for a moment dry And no one knows it is there\n",
      "---------- Cluster 2  ----------\n",
      "6 : If I see that bridge That is spanned by flights of magpies Across the arc of heaven Made white with a deep-laid frost Then the night is almost past\n",
      "14 : Like Michinoku prints Of the tangled leaves of ferns It is because of you That I have become confused But my love for you remains\n",
      "24 : At the present time Since I could bring no offering See Mount Tamuke Here are brocades of red leaves As a tribute to the gods\n",
      "39 : Bamboo growing Among the tangled reeds Like my hidden love But it is too much to bear That I still love her so\n",
      "41 : It is true I love But the rumor of my love Had gone far and wide When people should not have known That I had begun to love\n",
      "43 : I have met my love When I compare this present With feelings of the past My passion is now as if I have never loved before\n",
      "44 : If it should happen That we never met again I would not complain And I doubt that she or I Would feel that we were left alone\n",
      "45 : Surely there is none Who will speak a pitying word About my lost love Now my folly's fitting end Is my own nothingness\n",
      "46 : Like a mariner Sailing over Yura's strait With his rudder gone Where over the deep of love The end lies I do not know\n",
      "51 : How can I tell her How fierce my love for her is Will she understand That the love I feel for her Burns like Ibuki's fire plant\n",
      "80 : Is it forever That he hopes our love will last He did not answer And now my daylight thoughts Are as tangled as my black hair\n",
      "---------- Cluster 3  ----------\n",
      "1 : Coarse the rush-mat roof Sheltering the harvest-hut Of the autumn rice-field And my sleeves are growing wet With the moisture dripping through\n",
      "5 : In the mountain depths Treading through the crimson leaves The wandering stag calls When I hear the lonely cry Sadhow sadthe autumn is\n",
      "23 : As I view the moon Many things come into my mind And my thoughts are sad Yet it's not for me alone That the autumn time has come\n",
      "47 : To the dim cottage Overgrown with thick-leaved vines In its loneliness Comes the dreary autumn time But there no people come\n",
      "70 : In my loneliness I leave my little hut When I look around Everywhere it is the same One lone darkening autumn eve\n",
      "71 : When the evening comes From the rice leaves at my gate Gentle knocks are heard And into my round rush-hut Enters autumn's roaming breeze\n",
      "78 : Guard of Suma Gate From your sleep how many nights Have you awakened At the cries of sanderlings Flying from Awaji Island\n",
      "96 : Not the snow of flowers That the hurrying wild wind whirls Round the garden court What withers and falls away In this place is I myself\n",
      "97 : Like the salt sea-weed Burning in the evening calm On Matsuo's shore All my being is aflame Awaiting her who does not come\n",
      "98 : To Nara's brook comes Evening and the rustling winds Stir the oak-trees' leaves Not a sign of summer left But the sacred bathing there\n",
      "---------- Cluster 4  ----------\n",
      "18 : The waves are gathered On the shore of Sumi Bay And in the gathered night When in dreams I go to you I hide from people's eyes\n",
      "42 : Our sleeves were wet with tears As pledges that our love Will last until Over Sue's Mount of Pines Ocean waves are breaking\n",
      "48 : Like a driven wave Dashed by fierce winds on a rock So am I  alone And crushed upon the shore Remembering what has been\n",
      "72 : Famous are the waves That break on Takashi beach In noisy arrogance If I should go near that shore I would only wet my sleeves\n",
      "74 : It was not for this I prayed at the holy shrine That she would become As pitiless and as cold As the storms on Hase's hills\n",
      "90 : Let me show him these Even the fishermen's sleeves On Ojima's shores Though wet through and wet again Do not so change their colors\n",
      "---------- Cluster 5  ----------\n",
      "2 : The spring has passed And the summer come again For the silk-white robes So they say are spread to dry On the \"Mount of Heaven's Perfume\"\n",
      "4 : When I take the path To Tago's coast I see Perfect whiteness laid On Mount Fuji's lofty peak By the drift of falling snow\n",
      "13 : From Tsukuba's peak Falling waters have become Mina's still full flow So my love has grown to be Like the river's quiet deeps \n",
      "16 : Though we are parted If on Mount Inaba's peak I should hear the sound Of the pine trees growing there I'll come back again to you\n",
      "21 : Just because she said \"In a moment I will come\" I've awaited her Until the moon of daybreak In the long month has appeared\n",
      "22 : It is by its breath That autumn's leaves of trees and grass Are wasted and driven So they call this mountain wind The wild one the destroyer\n",
      "34 : Who is still alive When I have grown so old That I can call my friends Even Takasago's pines No longer offer comfort\n",
      "55 : Though the waterfall Ceased its flowing long ago And its sound is stilled Yet in name it ever flows And in fame may yet be heard\n",
      "63 : Is there any way Except by a messenger To send these words to you If I could I'd come to you To say goodbye forever\n",
      "91 : In my cold bed Drawing close my folded quilt I sleep alone While all through the frosty night I hear a cricket's lonely sound\n",
      "---------- Cluster 6  ----------\n",
      "26 : If the maple leaves On Ogura mountain Could only have hearts They would longingly await The emperor's pilgrimage\n",
      "30 : Like the morning moon Cold unpitying was my love And since we parted I dislike nothing so much As the breaking light of day\n",
      "33 : In the peaceful light Of the ever-shining sun In the days of spring Why do the cherry's new-blown blooms Scatter like restless thoughts\n",
      "49 : Like the guard's fires Kept at the imperial gateway Burning through the night Dull in ashes through the day Is the love aglow in me\n",
      "52 : Though I know indeed That the night will come again After day has dawned Still in truth I hate the sight Of the morning's coming light\n",
      "53 : Lying all alone Through the hours of the night Till the daylight comes Can you realize at all The emptiness of that night\n",
      "62 : The rooster's crowing In the middle of the night Deceived the hearers But at Osaka's gateway The guards are never fooled\n",
      "67 : If I lay my head Upon his arm in the dark Of a short spring night This innocent dream pillow Will be the death of my good name\n",
      "75 : As dew promises New life to the thirsty plant So did your vow to me Yet the year has passed away And autumn has come again\n",
      "81 : When I turned my look Toward the place where I had heard The cuckoo's call The only thing I found Was the moon of early dawn\n",
      "85 : Through an unsleeping night Longingly I pass the hours While the day's dawn lags And now the bedroom shutters Are keeping light and life from me\n",
      "---------- Cluster 7  ----------\n",
      "28 : Winter loneliness In a mountain village grows Only deeper when Guests are gone and leaves and grass Are withered troubling thoughts\n",
      "29 : If it were my wish To pick the white chrysanthemums Puzzled by the frost Of the early autumn time I by chance might pluck the flower\n",
      "32 : In a mountain stream There is a wattled barrier Built by the busy wind Yet it's only maple leaves Powerless to flow away\n",
      "60 : By Oe Mountain The road to Ikuno Is far away And neither have I beheld Nor crossed its bridge of heaven\n",
      "61 : Eight-fold cherry flowers That at Naraancient seat Of our statehave bloomed In our nine-fold palace court Shed their sweet perfume today\n",
      "66 : On a mountain slope Solitary uncompanioned Stands a cherry tree Except for you lonely friend To others I am unknown\n",
      "69 : By the wind storm's blast From Mimuro's mountain slopes Maples leaves are torn Which turn Tatsuta River Into a rich brocade\n",
      "73 : On that far mountain On the slope below the peak Cherries are in flower Oh let the mountain mists Not arise to hide the scene\n",
      "76 : Over the wide sea As I sail and look around It appears to me That the white waves far away Are the ever shining sky\n",
      "87 : An autumn eve See the valley mists arise Among the fir leaves That still hold the dripping wet Of the chill day's sudden showers\n",
      "---------- Cluster 8  ----------\n",
      "40 : Though I would hide it In my face it still appears My fond secret love And now he questions me \"Is something bothering you\"\n",
      "64 : In the early dawn When the mists on Uji River Slowly lift and clear From the shallows to the deep The stakes of fishing nets appear\n",
      "65 : Even when your hate Makes me stain my sleeves with tears In cold misery Worse than hate and misery Is the loss of my good name\n",
      "86 : Should I blame the moon For bringing forth this sadness As if it pictured grief Lifting up my troubled face I regard it through my tears\n",
      "99 : For some men I grieve Some men are hateful to me And this wretched world To me with all my sadness Is a place of misery\n",
      "---------- Cluster 9  ----------\n",
      "3 : Oh the foot-drawn trail Of the mountain-pheasant's tail Drooped like down-curved branch Through this long long-dragging night Must I lie in bed alone\n",
      "9 : Color of the flower Has already faded away While in idle thoughts My life passes vainly by As I watch the long rains fall\n",
      "15 : It is for your sake That I walk the fields in spring Gathering green herbs While my garment's hanging sleeves Are speckled with falling snow\n",
      "27 : Over Mika's plain Gushing forth and flowing free Is Izumi's stream I do not know if we have met Why then do I long for her\n",
      "50 : For your precious sake Once my eager life itself Was not dear to me But now it is my heart's desire It may long long years endure\n",
      "54 : If remembering me Will for him in future years Be too difficult It would be well this very day That I should end my life\n",
      "84 : If I should live long Then perhaps the present days May be dear to me Just as past time filled with grief Comes quietly back in thought\n",
      "89 : Like a string of gems Grown weak my life will break now For if I live on All I do to hide my love May at last grow weak and fail\n",
      "---------- Cluster 10  ----------\n",
      "10 : Truly this is where Travelers who go or come Over parting ways Friends or strangersall must meet The gate of \"Meeting Hill\"\n",
      "19 : Even for a time Short as a piece of the reeds In Naniwa's marsh We must never meet again Is this what you are asking me\n",
      "20 : In this dire distress My life is meaningless So we must meet now Even though it costs my life In the Bay of Naniwa\n",
      "38 : Though he forsook me For myself I do not care He made a promise And his life who is forsworn Oh how pitiful that is\n",
      "82 : Though in deep distress Through your cruel blow my life Still is left to me But I cannot keep my tears They break forth from my grief\n",
      "88 : After one brief night Short as a piece of the reeds Growing in Naniwa bay Must I forever long for him With my whole heart till life ends\n",
      "---------- Cluster 11  ----------\n",
      "8 : My lowly hut is Southeast from the capital Thus I choose to live And the world in which I live Men have named a \"Mount of Gloom\"\n",
      "11 : Over the wide sea Towards its many distant isles My ship sets sail Will the fishing boats thronged here Proclaim my journey to the world\n",
      "56 : Soon my life will close When I am beyond this world And have forgotten it Let me remember only this One final meeting with you\n",
      "68 : Though I do not want To live on in this floating world If I remain here Let me remember only This midnight and this moonrise\n",
      "77 : Though a swift stream is Divided by a boulder In its headlong flow Though divided on it rushes And at last unites again\n",
      "83 : From this world I think That there is nowhere to escape I wanted to hide In the mountains' farthest depths But there I hear the stag's cry\n",
      "93 : If only our world Could be always as it is How moving the sight Of the little fishing boat Drawn by ropes along the bank\n",
      "95 : From the monastery On Mount Hiei I look out On this world of tears And though I am unworthy I shield it with my black sleeves\n"
     ]
    }
   ],
   "source": [
    "km = KMeans(n_clusters=best_number_of_clusters,\n",
    "        init=\"k-means++\",\n",
    "        n_init=10,\n",
    "        max_iter=300,\n",
    "        random_state=0)\n",
    "y_km=km.fit_predict(tf_idf)\n",
    "\n",
    "for cluster in range(0, best_number_of_clusters):\n",
    "    print('---------- Cluster', cluster, ' ----------')\n",
    "    for index in range(0, len(org)):\n",
    "        if y_km[index] == cluster:\n",
    "            print(index+1, ':', org[index])"
   ]
  }
 ],
 "metadata": {
  "colab": {
   "include_colab_link": true,
   "name": "Untitled0.ipynb のコピー",
   "provenance": []
  },
  "kernelspec": {
   "display_name": "Python 3 (ipykernel)",
   "language": "python",
   "name": "python3"
  },
  "language_info": {
   "codemirror_mode": {
    "name": "ipython",
    "version": 3
   },
   "file_extension": ".py",
   "mimetype": "text/x-python",
   "name": "python",
   "nbconvert_exporter": "python",
   "pygments_lexer": "ipython3",
   "version": "3.7.16"
  }
 },
 "nbformat": 4,
 "nbformat_minor": 1
}
